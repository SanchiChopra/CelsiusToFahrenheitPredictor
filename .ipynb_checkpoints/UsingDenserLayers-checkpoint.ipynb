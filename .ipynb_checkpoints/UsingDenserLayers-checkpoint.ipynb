{
 "cells": [
  {
   "cell_type": "code",
   "execution_count": null,
   "metadata": {},
   "outputs": [],
   "source": [
    "l0 = tf.keras.layers.Dense(units=4, input_shape=[1])\n",
    "l1 = tf.keras.layers.Dense(units=4)\n",
    "l2 = tf.keras.layers.Dense(units=1)\n",
    "model = tf.keras.Sequential([l0, l1, l2])\n",
    "model.compile(loss='mean_squared_error', optimizer=tf.keras.optimizers.Adam(0.1))\n",
    "model.fit(celsius_q, fahrenheit_a, epochs=500, verbose=False)\n",
    "print(\"Finished training the model\")\n",
    "print(model.predict([100.0]))\n",
    "print(\"Model predicts that 100 degrees Celsius is: {} degrees Fahrenheit\".format(model.predict([100.0])))\n",
    "print(\"These are the l0 variables: {}\".format(l0.get_weights()))\n",
    "print(\"These are the l1 variables: {}\".format(l1.get_weights()))\n",
    "print(\"These are the l2 variables: {}\".format(l2.get_weights()))"
   ]
  }
 ],
 "metadata": {
  "kernelspec": {
   "display_name": "Python 3",
   "language": "python",
   "name": "python3"
  },
  "language_info": {
   "codemirror_mode": {
    "name": "ipython",
    "version": 3
   },
   "file_extension": ".py",
   "mimetype": "text/x-python",
   "name": "python",
   "nbconvert_exporter": "python",
   "pygments_lexer": "ipython3",
   "version": "3.7.3"
  }
 },
 "nbformat": 4,
 "nbformat_minor": 2
}
